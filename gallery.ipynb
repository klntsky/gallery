{
 "cells": [
  {
   "cell_type": "code",
   "execution_count": 56,
   "id": "bf779259-7988-40b0-8293-869786ec9b26",
   "metadata": {
    "slideshow": {
     "slide_type": "skip"
    },
    "tags": []
   },
   "outputs": [
    {
     "name": "stdout",
     "output_type": "stream",
     "text": [
      "[NbConvertApp] Converting notebook gallery.ipynb to slides\n",
      "[NbConvertApp] Writing 647419 bytes to gallery.slides.html\n"
     ]
    }
   ],
   "source": [
    "!jupyter nbconvert gallery.ipynb --to slides\n",
    "\n",
    "with open('gallery.slides.html', 'r') as f:\n",
    "    gcode = f.read()\n",
    "    pos = gcode.find('require(')\n",
    "    gcode = gcode.replace(\n",
    "        'controls: true', 'controls: true, autoSlide: 2000, loop: true'\n",
    "    )\n",
    "    # print(gcode[pos:])\n",
    "    \n",
    "with open('demo.html', 'w') as f:\n",
    "    f.write(gcode)\n",
    "    \n",
    "    \n",
    "    \n",
    "    \n",
    "    "
   ]
  },
  {
   "cell_type": "markdown",
   "id": "70537001-9d6c-48f8-8725-2ed5a1a3038b",
   "metadata": {
    "slideshow": {
     "slide_type": "slide"
    },
    "tags": []
   },
   "source": [
    "# 🤖📚🎨 STATE OF THE ART\n",
    "\n",
    "# a machine learning art gallery\n",
    "\n",
    "# made for DATAFEST 2021"
   ]
  },
  {
   "cell_type": "code",
   "execution_count": 12,
   "id": "ad6c410e-b8c5-4886-8a68-0b7f8d4000a3",
   "metadata": {
    "slideshow": {
     "slide_type": "slide"
    },
    "tags": []
   },
   "outputs": [
    {
     "ename": "ModuleNotFoundError",
     "evalue": "No module named 'art'",
     "output_type": "error",
     "traceback": [
      "\u001b[0;31m---------------------------------------------------------------------------\u001b[0m",
      "\u001b[0;31mModuleNotFoundError\u001b[0m                       Traceback (most recent call last)",
      "\u001b[0;32m<ipython-input-12-5b365fad06e8>\u001b[0m in \u001b[0;36m<module>\u001b[0;34m\u001b[0m\n\u001b[0;32m----> 1\u001b[0;31m \u001b[0;32mimport\u001b[0m \u001b[0mart\u001b[0m\u001b[0;34m\u001b[0m\u001b[0;34m\u001b[0m\u001b[0m\n\u001b[0m",
      "\u001b[0;31mModuleNotFoundError\u001b[0m: No module named 'art'"
     ]
    }
   ],
   "source": [
    "import art"
   ]
  },
  {
   "cell_type": "code",
   "execution_count": 28,
   "id": "dacaf00f-85db-4874-82ac-475f76639781",
   "metadata": {
    "slideshow": {
     "slide_type": "fragment"
    },
    "tags": []
   },
   "outputs": [],
   "source": [
    "global poem\n",
    " \n",
    "poem = [\n",
    "        \"The purpose of art is to capture conscious states.\",\n",
    "        \"It's trying to capture a certain structure for its own sake.\",\n",
    "        \"No longer for the reward of applying what you've learned.\"\n",
    "        \"No longer for the reward that is going to increase as a result of applying what you've learned.\"        \n",
    "]\n"
   ]
  },
  {
   "cell_type": "markdown",
   "id": "ce48f59b-46ea-4f5f-b0c6-09ae12f4e6e0",
   "metadata": {
    "slideshow": {
     "slide_type": "slide"
    },
    "tags": []
   },
   "source": [
    "<img src=\"media/the_purpose_of_art.png\" \n",
    "     class=\"center\"\n",
    "     style=\"display: block;\n",
    "  margin-left: auto;\n",
    "  margin-right: auto;\"  />"
   ]
  }
 ],
 "metadata": {
  "kernelspec": {
   "display_name": "Python 3",
   "language": "python",
   "name": "python3"
  },
  "language_info": {
   "codemirror_mode": {
    "name": "ipython",
    "version": 3
   },
   "file_extension": ".py",
   "mimetype": "text/x-python",
   "name": "python",
   "nbconvert_exporter": "python",
   "pygments_lexer": "ipython3",
   "version": "3.8.5"
  }
 },
 "nbformat": 4,
 "nbformat_minor": 5
}
