{
 "cells": [
  {
   "cell_type": "code",
   "execution_count": 67,
   "id": "bf779259-7988-40b0-8293-869786ec9b26",
   "metadata": {
    "slideshow": {
     "slide_type": "skip"
    },
    "tags": []
   },
   "outputs": [
    {
     "name": "stdout",
     "output_type": "stream",
     "text": [
      "[NbConvertApp] Converting notebook gallery.ipynb to slides\n",
      "[NbConvertApp] Writing 647179 bytes to gallery.slides.html\n"
     ]
    }
   ],
   "source": [
    "!jupyter nbconvert gallery.ipynb --to slides\n",
    "\n",
    "with open('gallery.slides.html', 'r') as f:\n",
    "    gcode = f.read()\n",
    "    \n",
    "    gcode = gcode.replace('<body', '<body style=\"background-color: #200020\"')\n",
    "    \n",
    "    gcode = gcode.replace(\n",
    "        'controls: true', 'controls: false, autoSlide: 2000, loop: true'\n",
    "    )\n",
    "    \n",
    "    # pos = gcode.find('require(')\n",
    "    # print(gcode[pos:])\n",
    "    \n",
    "    \n",
    "    \n",
    "with open('demo.html', 'w') as f:\n",
    "    f.write(gcode)\n",
    "    \n",
    "    \n",
    "    \n",
    "    \n",
    "    "
   ]
  },
  {
   "cell_type": "markdown",
   "id": "70537001-9d6c-48f8-8725-2ed5a1a3038b",
   "metadata": {
    "slideshow": {
     "slide_type": "slide"
    },
    "tags": []
   },
   "source": [
    "<h1 style=\"color: white\">  🤖📚🎨 STATE OF THE ART </h1>\n",
    "\n",
    "<h1 style=\"color: white\">  a machine learning art gallery </h1>\n",
    "\n",
    "<h1 style=\"color: white\">  made for DATAFEST 2021 </h1>"
   ]
  },
  {
   "cell_type": "code",
   "execution_count": null,
   "id": "f3b9d318-26e7-4ce2-af4c-26b3bd48b176",
   "metadata": {
    "slideshow": {
     "slide_type": "slide"
    },
    "tags": []
   },
   "outputs": [],
   "source": [
    "import art"
   ]
  },
  {
   "cell_type": "code",
   "execution_count": 28,
   "id": "dacaf00f-85db-4874-82ac-475f76639781",
   "metadata": {
    "slideshow": {
     "slide_type": "fragment"
    },
    "tags": []
   },
   "outputs": [],
   "source": [
    "global poem\n",
    " \n",
    "poem = [\n",
    "        \"The purpose of art is to capture conscious states.\",\n",
    "        \"It's trying to capture a certain structure for its own sake.\",\n",
    "        \"No longer for the reward of applying what you've learned.\"\n",
    "        \"No longer for the reward that is going to increase as a result of applying what you've learned.\"        \n",
    "]\n"
   ]
  },
  {
   "cell_type": "markdown",
   "id": "ce48f59b-46ea-4f5f-b0c6-09ae12f4e6e0",
   "metadata": {
    "slideshow": {
     "slide_type": "slide"
    },
    "tags": []
   },
   "source": [
    "<section data-background-color=\"aquamarine\">\n",
    "<img src=\"media/the_purpose_of_art.png\" \n",
    "     class=\"center\"\n",
    "     style=\"display: block;\n",
    "  margin-left: auto;\n",
    "  margin-right: auto;\"  />\n",
    "</section>"
   ]
  }
 ],
 "metadata": {
  "kernelspec": {
   "display_name": "Python 3",
   "language": "python",
   "name": "python3"
  },
  "language_info": {
   "codemirror_mode": {
    "name": "ipython",
    "version": 3
   },
   "file_extension": ".py",
   "mimetype": "text/x-python",
   "name": "python",
   "nbconvert_exporter": "python",
   "pygments_lexer": "ipython3",
   "version": "3.8.5"
  }
 },
 "nbformat": 4,
 "nbformat_minor": 5
}
